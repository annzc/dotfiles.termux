{
 "cells": [
  {
   "cell_type": "code",
   "execution_count": 2,
   "id": "5d73ca20",
   "metadata": {},
   "outputs": [
    {
     "name": "stdout",
     "output_type": "stream",
     "text": [
      "hello jupyter notebook\n"
     ]
    }
   ],
   "source": [
    "print(\"hello jupyter notebook\")"
   ]
  },
  {
   "cell_type": "code",
   "execution_count": 3,
   "id": "637624fa",
   "metadata": {},
   "outputs": [
    {
     "name": "stdout",
     "output_type": "stream",
     "text": [
      "successfully installed jupyter notebook on my android\n"
     ]
    }
   ],
   "source": [
    "print(\"successfully installed jupyter notebook on my android\")"
   ]
  },
  {
   "cell_type": "code",
   "execution_count": 4,
   "id": "587d4ab2",
   "metadata": {},
   "outputs": [
    {
     "name": "stdout",
     "output_type": "stream",
     "text": [
      "using termux\n"
     ]
    }
   ],
   "source": [
    "print(\"using termux\")"
   ]
  }
 ],
 "metadata": {
  "kernelspec": {
   "display_name": "Python 3",
   "language": "python",
   "name": "python3"
  },
  "language_info": {
   "codemirror_mode": {
    "name": "ipython",
    "version": 3
   },
   "file_extension": ".py",
   "mimetype": "text/x-python",
   "name": "python",
   "nbconvert_exporter": "python",
   "pygments_lexer": "ipython3",
   "version": "3.9.5"
  }
 },
 "nbformat": 4,
 "nbformat_minor": 5
}
